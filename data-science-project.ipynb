{
 "cells": [
  {
   "cell_type": "markdown",
   "metadata": {},
   "source": [
    "# Homicide data in Mexico and the United States\n",
    "## *A comparison of homicides by weapon and sex*"
   ]
  },
  {
   "cell_type": "markdown",
   "metadata": {},
   "source": [
    "First, let us compare the homicide data by weapon type to observe any trends over the decade of 2007 - 2017:"
   ]
  },
  {
   "cell_type": "code",
   "execution_count": 29,
   "metadata": {},
   "outputs": [],
   "source": [
    "import numpy as np\n",
    "import matplotlib.pyplot as plt"
   ]
  },
  {
   "cell_type": "code",
   "execution_count": 43,
   "metadata": {},
   "outputs": [
    {
     "name": "stdout",
     "output_type": "stream",
     "text": [
      "[['1997', '987', '2522', '13357', '0', '16866'], ['1998', '1428', '3286', '9502', '0', '14216'], ['1999', '1380', '4390', '8849', '0', '14619'], ['2000', '1382', '3605', '8862', '0', '13849'], ['2001', '1401', '3512', '8942', '0', '13855'], ['2002', '1546', '2616', '4197', '4789', '13148'], ['2003', '1241', '3006', '4149', '4280', '12676'], ['2004', '1195', '2858', '3371', '4234', '11658'], ['2005', '1146', '3208', '2892', '4000', '11246'], ['2006', '1135', '3610', '3164', '3897', '11806'], ['2007', '1265', '4040', '4202', '746', '10253'], ['2008', '2310', '5085', '3458', '2302', '13155'], ['2009', '2324', '8804', '3946', '1044', '16118'], ['2010', '2045', '11987', '4910', '1201', '20143'], ['2011', '2457', '12615', '6310', '1027', '22409'], ['2012', '2411', '11391', '7229', '428', '21459'], ['2013', '2028', '9774', '5995', '309', '18106'], ['2014', '2227', '8589', '4079', '625', '15520'], ['2015', '2371', '9531', '4264', '743', '16909'], ['2016', '2666', '12603', '4663', '615', '20547'], ['2017', '2884', '16949', '5185', '479', '25497']]\n"
     ]
    }
   ],
   "source": [
    "#First, let's create a timeline for Mexico's homicides from 2007-2017 by weapon type using a line chart, \n",
    "#one line for each type\n",
    "\n",
    "with open('homicidios_armas_timeline.csv') as armas:\n",
    "    armas_headers = [x.strip().replace('\\ufeff','').split(\",\") for x in armas.readline()]\n",
    "    armas_data = [x.strip().replace('\\ufeff','').split(\",\") for x in armas.readlines()]\n",
    "    print(armas_data)\n",
    "#     armas_data = [x.strip().replace('\\ufeff','').split(\",\") for x in armas.readlines()]\n",
    "#     headers = armas_data[0]\n",
    "#     year_data = armas_data[1:]\n",
    "#     for year in year_data:\n",
    "#         print(year)\n",
    "#         year = [float(val) for val in year]\n",
    "\n",
    "#     print(year_data)"
   ]
  },
  {
   "cell_type": "code",
   "execution_count": null,
   "metadata": {},
   "outputs": [],
   "source": []
  }
 ],
 "metadata": {
  "kernelspec": {
   "display_name": "Python 3",
   "language": "python",
   "name": "python3"
  },
  "language_info": {
   "codemirror_mode": {
    "name": "ipython",
    "version": 3
   },
   "file_extension": ".py",
   "mimetype": "text/x-python",
   "name": "python",
   "nbconvert_exporter": "python",
   "pygments_lexer": "ipython3",
   "version": "3.6.5"
  }
 },
 "nbformat": 4,
 "nbformat_minor": 2
}
